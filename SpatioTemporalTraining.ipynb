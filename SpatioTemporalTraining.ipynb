{
 "cells": [
  {
   "cell_type": "code",
   "execution_count": null,
   "metadata": {},
   "outputs": [],
   "source": [
    "from google.colab import drive\n",
    "drive.mount('/content/drive', force_remount=True)"
   ]
  },
  {
   "cell_type": "code",
   "execution_count": null,
   "metadata": {},
   "outputs": [],
   "source": [
    "%cd 'drive/MyDrive/Spring 2024/Applied ML Cloud/SpatioTemporalFraud/'"
   ]
  },
  {
   "cell_type": "code",
   "execution_count": 1,
   "metadata": {},
   "outputs": [
    {
     "name": "stdout",
     "output_type": "stream",
     "text": [
      "Requirement already satisfied: torch in /opt/anaconda3/lib/python3.9/site-packages (2.2.2)\n",
      "Requirement already satisfied: dgl in /opt/anaconda3/lib/python3.9/site-packages (2.1.0)\n",
      "Requirement already satisfied: filelock in /opt/anaconda3/lib/python3.9/site-packages (from torch) (3.6.0)\n",
      "Requirement already satisfied: networkx in /opt/anaconda3/lib/python3.9/site-packages (from torch) (2.8.4)\n",
      "Requirement already satisfied: sympy in /opt/anaconda3/lib/python3.9/site-packages (from torch) (1.10.1)\n",
      "Requirement already satisfied: jinja2 in /opt/anaconda3/lib/python3.9/site-packages (from torch) (2.11.3)\n",
      "Requirement already satisfied: fsspec in /opt/anaconda3/lib/python3.9/site-packages (from torch) (2024.2.0)\n",
      "Requirement already satisfied: typing-extensions>=4.8.0 in /opt/anaconda3/lib/python3.9/site-packages (from torch) (4.8.0)\n",
      "Requirement already satisfied: scipy>=1.1.0 in /opt/anaconda3/lib/python3.9/site-packages (from dgl) (1.9.1)\n",
      "Requirement already satisfied: torchdata>=0.5.0 in /opt/anaconda3/lib/python3.9/site-packages (from dgl) (0.7.1)\n",
      "Requirement already satisfied: psutil>=5.8.0 in /opt/anaconda3/lib/python3.9/site-packages (from dgl) (5.9.0)\n",
      "Requirement already satisfied: requests>=2.19.0 in /opt/anaconda3/lib/python3.9/site-packages (from dgl) (2.28.1)\n",
      "Requirement already satisfied: tqdm in /opt/anaconda3/lib/python3.9/site-packages (from dgl) (4.64.1)\n",
      "Requirement already satisfied: numpy>=1.14.0 in /opt/anaconda3/lib/python3.9/site-packages (from dgl) (1.24.4)\n",
      "Requirement already satisfied: urllib3<1.27,>=1.21.1 in /opt/anaconda3/lib/python3.9/site-packages (from requests>=2.19.0->dgl) (1.26.11)\n",
      "Requirement already satisfied: charset-normalizer<3,>=2 in /opt/anaconda3/lib/python3.9/site-packages (from requests>=2.19.0->dgl) (2.0.4)\n",
      "Requirement already satisfied: certifi>=2017.4.17 in /opt/anaconda3/lib/python3.9/site-packages (from requests>=2.19.0->dgl) (2022.9.24)\n",
      "Requirement already satisfied: idna<4,>=2.5 in /opt/anaconda3/lib/python3.9/site-packages (from requests>=2.19.0->dgl) (3.3)\n",
      "Requirement already satisfied: MarkupSafe>=0.23 in /opt/anaconda3/lib/python3.9/site-packages (from jinja2->torch) (2.0.1)\n",
      "Requirement already satisfied: mpmath>=0.19 in /opt/anaconda3/lib/python3.9/site-packages (from sympy->torch) (1.2.1)\n"
     ]
    }
   ],
   "source": [
    "!pip install torch"
   ]
  },
  {
   "cell_type": "code",
   "execution_count": 2,
   "metadata": {},
   "outputs": [
    {
     "name": "stdout",
     "output_type": "stream",
     "text": [
      "Traceback (most recent call last):\n",
      "  File \"/Users/adityakankariya/Columbia/Spring24/Applied ML Cloud/SpatioTemporalFraud/feature_engineering/data_process.py\", line 7, in <module>\n",
      "    import dgl\n",
      "  File \"/opt/anaconda3/lib/python3.9/site-packages/dgl/__init__.py\", line 16, in <module>\n",
      "    from . import (\n",
      "  File \"/opt/anaconda3/lib/python3.9/site-packages/dgl/dataloading/__init__.py\", line 13, in <module>\n",
      "    from .dataloader import *\n",
      "  File \"/opt/anaconda3/lib/python3.9/site-packages/dgl/dataloading/dataloader.py\", line 27, in <module>\n",
      "    from ..distributed import DistGraph\n",
      "  File \"/opt/anaconda3/lib/python3.9/site-packages/dgl/distributed/__init__.py\", line 5, in <module>\n",
      "    from .dist_graph import DistGraph, DistGraphServer, edge_split, node_split\n",
      "  File \"/opt/anaconda3/lib/python3.9/site-packages/dgl/distributed/dist_graph.py\", line 11, in <module>\n",
      "    from .. import backend as F, graphbolt as gb, heterograph_index\n",
      "  File \"/opt/anaconda3/lib/python3.9/site-packages/dgl/graphbolt/__init__.py\", line 55, in <module>\n",
      "    load_graphbolt()\n",
      "  File \"/opt/anaconda3/lib/python3.9/site-packages/dgl/graphbolt/__init__.py\", line 45, in load_graphbolt\n",
      "    raise FileNotFoundError(\n",
      "FileNotFoundError: Cannot find DGL C++ graphbolt library at /opt/anaconda3/lib/python3.9/site-packages/dgl/graphbolt/libgraphbolt_pytorch_2.2.2.dylib\n"
     ]
    }
   ],
   "source": [
    "!python main.py --mode test"
   ]
  }
 ],
 "metadata": {
  "kernelspec": {
   "display_name": "base",
   "language": "python",
   "name": "python3"
  },
  "language_info": {
   "codemirror_mode": {
    "name": "ipython",
    "version": 3
   },
   "file_extension": ".py",
   "mimetype": "text/x-python",
   "name": "python",
   "nbconvert_exporter": "python",
   "pygments_lexer": "ipython3",
   "version": "3.9.13"
  }
 },
 "nbformat": 4,
 "nbformat_minor": 2
}
